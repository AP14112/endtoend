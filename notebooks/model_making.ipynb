{
 "cells": [
  {
   "cell_type": "markdown",
   "id": "a9967ad7",
   "metadata": {},
   "source": [
    "### Model Training"
   ]
  },
  {
   "cell_type": "code",
   "execution_count": 36,
   "id": "405b6448",
   "metadata": {},
   "outputs": [],
   "source": [
    "import numpy as np \n",
    "import pandas as pd\n",
    "import matplotlib.pyplot as plt\n",
    "import seaborn as sns\n",
    "from sklearn.metrics import mean_squared_error,r2_score\n",
    "from sklearn.neighbors import KNeighborsRegressor \n",
    "from sklearn.tree import DecisionTreeRegressor\n",
    "from sklearn.ensemble import RandomForestRegressor,AdaBoostRegressor\n",
    "from sklearn.svm import SVR\n",
    "from sklearn.linear_model import LinearRegression, Ridge,Lasso\n",
    "from sklearn.metrics import r2_score, mean_absolute_error, mean_squared_error\n",
    "from sklearn.model_selection import RandomizedSearchCV\n",
    "from catboost import CatBoostRegressor\n",
    "from xgboost import XGBRegressor\n",
    "import warnings"
   ]
  },
  {
   "cell_type": "code",
   "execution_count": 37,
   "id": "6617a884",
   "metadata": {},
   "outputs": [
    {
     "name": "stdout",
     "output_type": "stream",
     "text": [
      "Requirement already satisfied: pandas in c:\\users\\aryam\\downloads\\ml\\etoe_ml\\venv\\lib\\site-packages (from -r C:\\Users\\aryam\\Downloads\\ML\\EtoE_ML\\requirements.txt (line 1)) (2.3.0)\n",
      "Requirement already satisfied: numpy in c:\\users\\aryam\\downloads\\ml\\etoe_ml\\venv\\lib\\site-packages (from -r C:\\Users\\aryam\\Downloads\\ML\\EtoE_ML\\requirements.txt (line 2)) (2.2.6)\n",
      "Requirement already satisfied: seaborn in c:\\users\\aryam\\downloads\\ml\\etoe_ml\\venv\\lib\\site-packages (from -r C:\\Users\\aryam\\Downloads\\ML\\EtoE_ML\\requirements.txt (line 3)) (0.13.2)\n",
      "Requirement already satisfied: matplotlib in c:\\users\\aryam\\downloads\\ml\\etoe_ml\\venv\\lib\\site-packages (from -r C:\\Users\\aryam\\Downloads\\ML\\EtoE_ML\\requirements.txt (line 4)) (3.10.3)\n",
      "Requirement already satisfied: scikit-learn in c:\\users\\aryam\\downloads\\ml\\etoe_ml\\venv\\lib\\site-packages (from -r C:\\Users\\aryam\\Downloads\\ML\\EtoE_ML\\requirements.txt (line 5)) (1.7.0)\n",
      "Requirement already satisfied: catboost in c:\\users\\aryam\\downloads\\ml\\etoe_ml\\venv\\lib\\site-packages (from -r C:\\Users\\aryam\\Downloads\\ML\\EtoE_ML\\requirements.txt (line 6)) (1.2.8)\n",
      "Requirement already satisfied: xgboost in c:\\users\\aryam\\downloads\\ml\\etoe_ml\\venv\\lib\\site-packages (from -r C:\\Users\\aryam\\Downloads\\ML\\EtoE_ML\\requirements.txt (line 7)) (3.0.2)\n",
      "Requirement already satisfied: python-dateutil>=2.8.2 in c:\\users\\aryam\\downloads\\ml\\etoe_ml\\venv\\lib\\site-packages (from pandas->-r C:\\Users\\aryam\\Downloads\\ML\\EtoE_ML\\requirements.txt (line 1)) (2.9.0.post0)\n",
      "Requirement already satisfied: pytz>=2020.1 in c:\\users\\aryam\\downloads\\ml\\etoe_ml\\venv\\lib\\site-packages (from pandas->-r C:\\Users\\aryam\\Downloads\\ML\\EtoE_ML\\requirements.txt (line 1)) (2025.2)\n",
      "Requirement already satisfied: tzdata>=2022.7 in c:\\users\\aryam\\downloads\\ml\\etoe_ml\\venv\\lib\\site-packages (from pandas->-r C:\\Users\\aryam\\Downloads\\ML\\EtoE_ML\\requirements.txt (line 1)) (2025.2)\n",
      "Requirement already satisfied: contourpy>=1.0.1 in c:\\users\\aryam\\downloads\\ml\\etoe_ml\\venv\\lib\\site-packages (from matplotlib->-r C:\\Users\\aryam\\Downloads\\ML\\EtoE_ML\\requirements.txt (line 4)) (1.3.2)\n",
      "Requirement already satisfied: cycler>=0.10 in c:\\users\\aryam\\downloads\\ml\\etoe_ml\\venv\\lib\\site-packages (from matplotlib->-r C:\\Users\\aryam\\Downloads\\ML\\EtoE_ML\\requirements.txt (line 4)) (0.12.1)\n",
      "Requirement already satisfied: fonttools>=4.22.0 in c:\\users\\aryam\\downloads\\ml\\etoe_ml\\venv\\lib\\site-packages (from matplotlib->-r C:\\Users\\aryam\\Downloads\\ML\\EtoE_ML\\requirements.txt (line 4)) (4.58.4)\n",
      "Requirement already satisfied: kiwisolver>=1.3.1 in c:\\users\\aryam\\downloads\\ml\\etoe_ml\\venv\\lib\\site-packages (from matplotlib->-r C:\\Users\\aryam\\Downloads\\ML\\EtoE_ML\\requirements.txt (line 4)) (1.4.8)\n",
      "Requirement already satisfied: packaging>=20.0 in c:\\users\\aryam\\downloads\\ml\\etoe_ml\\venv\\lib\\site-packages (from matplotlib->-r C:\\Users\\aryam\\Downloads\\ML\\EtoE_ML\\requirements.txt (line 4)) (25.0)\n",
      "Requirement already satisfied: pillow>=8 in c:\\users\\aryam\\downloads\\ml\\etoe_ml\\venv\\lib\\site-packages (from matplotlib->-r C:\\Users\\aryam\\Downloads\\ML\\EtoE_ML\\requirements.txt (line 4)) (11.2.1)\n",
      "Requirement already satisfied: pyparsing>=2.3.1 in c:\\users\\aryam\\downloads\\ml\\etoe_ml\\venv\\lib\\site-packages (from matplotlib->-r C:\\Users\\aryam\\Downloads\\ML\\EtoE_ML\\requirements.txt (line 4)) (3.2.3)\n",
      "Requirement already satisfied: scipy>=1.8.0 in c:\\users\\aryam\\downloads\\ml\\etoe_ml\\venv\\lib\\site-packages (from scikit-learn->-r C:\\Users\\aryam\\Downloads\\ML\\EtoE_ML\\requirements.txt (line 5)) (1.15.3)\n",
      "Requirement already satisfied: joblib>=1.2.0 in c:\\users\\aryam\\downloads\\ml\\etoe_ml\\venv\\lib\\site-packages (from scikit-learn->-r C:\\Users\\aryam\\Downloads\\ML\\EtoE_ML\\requirements.txt (line 5)) (1.5.1)\n",
      "Requirement already satisfied: threadpoolctl>=3.1.0 in c:\\users\\aryam\\downloads\\ml\\etoe_ml\\venv\\lib\\site-packages (from scikit-learn->-r C:\\Users\\aryam\\Downloads\\ML\\EtoE_ML\\requirements.txt (line 5)) (3.6.0)\n",
      "Requirement already satisfied: graphviz in c:\\users\\aryam\\downloads\\ml\\etoe_ml\\venv\\lib\\site-packages (from catboost->-r C:\\Users\\aryam\\Downloads\\ML\\EtoE_ML\\requirements.txt (line 6)) (0.21)\n",
      "Requirement already satisfied: plotly in c:\\users\\aryam\\downloads\\ml\\etoe_ml\\venv\\lib\\site-packages (from catboost->-r C:\\Users\\aryam\\Downloads\\ML\\EtoE_ML\\requirements.txt (line 6)) (6.2.0)\n",
      "Requirement already satisfied: six in c:\\users\\aryam\\downloads\\ml\\etoe_ml\\venv\\lib\\site-packages (from catboost->-r C:\\Users\\aryam\\Downloads\\ML\\EtoE_ML\\requirements.txt (line 6)) (1.17.0)\n",
      "Requirement already satisfied: narwhals>=1.15.1 in c:\\users\\aryam\\downloads\\ml\\etoe_ml\\venv\\lib\\site-packages (from plotly->catboost->-r C:\\Users\\aryam\\Downloads\\ML\\EtoE_ML\\requirements.txt (line 6)) (1.44.0)\n"
     ]
    }
   ],
   "source": [
    "!pip install -r C:\\Users\\aryam\\Downloads\\ML\\EtoE_ML\\requirements.txt\n"
   ]
  },
  {
   "cell_type": "code",
   "execution_count": 38,
   "id": "1cee38af",
   "metadata": {},
   "outputs": [],
   "source": [
    "df= pd.read_csv('data/StudentsPerformance.csv')"
   ]
  },
  {
   "cell_type": "code",
   "execution_count": 39,
   "id": "9420677c",
   "metadata": {},
   "outputs": [],
   "source": [
    "X=df.drop(columns=['math score'],axis=1)"
   ]
  },
  {
   "cell_type": "code",
   "execution_count": 40,
   "id": "163fe036",
   "metadata": {},
   "outputs": [
    {
     "data": {
      "text/html": [
       "<div>\n",
       "<style scoped>\n",
       "    .dataframe tbody tr th:only-of-type {\n",
       "        vertical-align: middle;\n",
       "    }\n",
       "\n",
       "    .dataframe tbody tr th {\n",
       "        vertical-align: top;\n",
       "    }\n",
       "\n",
       "    .dataframe thead th {\n",
       "        text-align: right;\n",
       "    }\n",
       "</style>\n",
       "<table border=\"1\" class=\"dataframe\">\n",
       "  <thead>\n",
       "    <tr style=\"text-align: right;\">\n",
       "      <th></th>\n",
       "      <th>gender</th>\n",
       "      <th>race/ethnicity</th>\n",
       "      <th>parental level of education</th>\n",
       "      <th>lunch</th>\n",
       "      <th>test preparation course</th>\n",
       "      <th>reading score</th>\n",
       "      <th>writing score</th>\n",
       "    </tr>\n",
       "  </thead>\n",
       "  <tbody>\n",
       "    <tr>\n",
       "      <th>0</th>\n",
       "      <td>female</td>\n",
       "      <td>group B</td>\n",
       "      <td>bachelor's degree</td>\n",
       "      <td>standard</td>\n",
       "      <td>none</td>\n",
       "      <td>72</td>\n",
       "      <td>74</td>\n",
       "    </tr>\n",
       "    <tr>\n",
       "      <th>1</th>\n",
       "      <td>female</td>\n",
       "      <td>group C</td>\n",
       "      <td>some college</td>\n",
       "      <td>standard</td>\n",
       "      <td>completed</td>\n",
       "      <td>90</td>\n",
       "      <td>88</td>\n",
       "    </tr>\n",
       "    <tr>\n",
       "      <th>2</th>\n",
       "      <td>female</td>\n",
       "      <td>group B</td>\n",
       "      <td>master's degree</td>\n",
       "      <td>standard</td>\n",
       "      <td>none</td>\n",
       "      <td>95</td>\n",
       "      <td>93</td>\n",
       "    </tr>\n",
       "    <tr>\n",
       "      <th>3</th>\n",
       "      <td>male</td>\n",
       "      <td>group A</td>\n",
       "      <td>associate's degree</td>\n",
       "      <td>free/reduced</td>\n",
       "      <td>none</td>\n",
       "      <td>57</td>\n",
       "      <td>44</td>\n",
       "    </tr>\n",
       "    <tr>\n",
       "      <th>4</th>\n",
       "      <td>male</td>\n",
       "      <td>group C</td>\n",
       "      <td>some college</td>\n",
       "      <td>standard</td>\n",
       "      <td>none</td>\n",
       "      <td>78</td>\n",
       "      <td>75</td>\n",
       "    </tr>\n",
       "    <tr>\n",
       "      <th>...</th>\n",
       "      <td>...</td>\n",
       "      <td>...</td>\n",
       "      <td>...</td>\n",
       "      <td>...</td>\n",
       "      <td>...</td>\n",
       "      <td>...</td>\n",
       "      <td>...</td>\n",
       "    </tr>\n",
       "    <tr>\n",
       "      <th>995</th>\n",
       "      <td>female</td>\n",
       "      <td>group E</td>\n",
       "      <td>master's degree</td>\n",
       "      <td>standard</td>\n",
       "      <td>completed</td>\n",
       "      <td>99</td>\n",
       "      <td>95</td>\n",
       "    </tr>\n",
       "    <tr>\n",
       "      <th>996</th>\n",
       "      <td>male</td>\n",
       "      <td>group C</td>\n",
       "      <td>high school</td>\n",
       "      <td>free/reduced</td>\n",
       "      <td>none</td>\n",
       "      <td>55</td>\n",
       "      <td>55</td>\n",
       "    </tr>\n",
       "    <tr>\n",
       "      <th>997</th>\n",
       "      <td>female</td>\n",
       "      <td>group C</td>\n",
       "      <td>high school</td>\n",
       "      <td>free/reduced</td>\n",
       "      <td>completed</td>\n",
       "      <td>71</td>\n",
       "      <td>65</td>\n",
       "    </tr>\n",
       "    <tr>\n",
       "      <th>998</th>\n",
       "      <td>female</td>\n",
       "      <td>group D</td>\n",
       "      <td>some college</td>\n",
       "      <td>standard</td>\n",
       "      <td>completed</td>\n",
       "      <td>78</td>\n",
       "      <td>77</td>\n",
       "    </tr>\n",
       "    <tr>\n",
       "      <th>999</th>\n",
       "      <td>female</td>\n",
       "      <td>group D</td>\n",
       "      <td>some college</td>\n",
       "      <td>free/reduced</td>\n",
       "      <td>none</td>\n",
       "      <td>86</td>\n",
       "      <td>86</td>\n",
       "    </tr>\n",
       "  </tbody>\n",
       "</table>\n",
       "<p>1000 rows × 7 columns</p>\n",
       "</div>"
      ],
      "text/plain": [
       "     gender race/ethnicity parental level of education         lunch  \\\n",
       "0    female        group B           bachelor's degree      standard   \n",
       "1    female        group C                some college      standard   \n",
       "2    female        group B             master's degree      standard   \n",
       "3      male        group A          associate's degree  free/reduced   \n",
       "4      male        group C                some college      standard   \n",
       "..      ...            ...                         ...           ...   \n",
       "995  female        group E             master's degree      standard   \n",
       "996    male        group C                 high school  free/reduced   \n",
       "997  female        group C                 high school  free/reduced   \n",
       "998  female        group D                some college      standard   \n",
       "999  female        group D                some college  free/reduced   \n",
       "\n",
       "    test preparation course  reading score  writing score  \n",
       "0                      none             72             74  \n",
       "1                 completed             90             88  \n",
       "2                      none             95             93  \n",
       "3                      none             57             44  \n",
       "4                      none             78             75  \n",
       "..                      ...            ...            ...  \n",
       "995               completed             99             95  \n",
       "996                    none             55             55  \n",
       "997               completed             71             65  \n",
       "998               completed             78             77  \n",
       "999                    none             86             86  \n",
       "\n",
       "[1000 rows x 7 columns]"
      ]
     },
     "execution_count": 40,
     "metadata": {},
     "output_type": "execute_result"
    }
   ],
   "source": [
    "X"
   ]
  },
  {
   "cell_type": "code",
   "execution_count": 41,
   "id": "7c5ba024",
   "metadata": {},
   "outputs": [],
   "source": [
    "y=df['math score']"
   ]
  },
  {
   "cell_type": "code",
   "execution_count": 42,
   "id": "6bf7a2e0",
   "metadata": {},
   "outputs": [
    {
     "data": {
      "text/plain": [
       "0      72\n",
       "1      69\n",
       "2      90\n",
       "3      47\n",
       "4      76\n",
       "       ..\n",
       "995    88\n",
       "996    62\n",
       "997    59\n",
       "998    68\n",
       "999    77\n",
       "Name: math score, Length: 1000, dtype: int64"
      ]
     },
     "execution_count": 42,
     "metadata": {},
     "output_type": "execute_result"
    }
   ],
   "source": [
    "y"
   ]
  },
  {
   "cell_type": "code",
   "execution_count": 43,
   "id": "f22fafd1",
   "metadata": {},
   "outputs": [
    {
     "name": "stdout",
     "output_type": "stream",
     "text": [
      "Categories in 'gender' variable:      ['female' 'male']\n",
      "Categories in 'race/ethnicity' variable:   ['group B' 'group C' 'group A' 'group D' 'group E']\n",
      "Categories in'parental level of education' variable: [\"bachelor's degree\" 'some college' \"master's degree\" \"associate's degree\"\n",
      " 'high school' 'some high school']\n",
      "Categories in 'lunch' variable:      ['standard' 'free/reduced']\n",
      "Categories in 'test preparation course' variable:      ['none' 'completed']\n"
     ]
    }
   ],
   "source": [
    "print(\"Categories in 'gender' variable:     \",end=\" \" )\n",
    "print(df['gender'].unique())\n",
    "\n",
    "print(\"Categories in 'race/ethnicity' variable:  \",end=\" \")\n",
    "print(df['race/ethnicity'].unique())\n",
    "\n",
    "print(\"Categories in'parental level of education' variable:\",end=\" \" )\n",
    "print(df['parental level of education'].unique())\n",
    "\n",
    "print(\"Categories in 'lunch' variable:     \",end=\" \" )\n",
    "print(df['lunch'].unique())\n",
    "\n",
    "print(\"Categories in 'test preparation course' variable:     \",end=\" \" )\n",
    "print(df['test preparation course'].unique())"
   ]
  },
  {
   "cell_type": "code",
   "execution_count": 44,
   "id": "74e885d5",
   "metadata": {},
   "outputs": [],
   "source": [
    "num_features = X.select_dtypes(exclude=\"object\").columns\n",
    "cat_features= X.select_dtypes(include=\"object\").columns\n",
    "\n",
    "from sklearn.preprocessing import OneHotEncoder,StandardScaler\n",
    "from sklearn.compose import ColumnTransformer\n",
    "\n",
    "numeric_transformer=StandardScaler()\n",
    "on_transformer=OneHotEncoder()\n",
    "\n",
    "preprocessing=ColumnTransformer(\n",
    "    [\n",
    "        (\"OneHotEncoder\", on_transformer, cat_features),\n",
    "         (\"StandardScaler\", numeric_transformer, num_features),        \n",
    "    ]\n",
    ")"
   ]
  },
  {
   "cell_type": "code",
   "execution_count": 45,
   "id": "83aac2c6",
   "metadata": {},
   "outputs": [],
   "source": [
    "X = preprocessing.fit_transform(X)"
   ]
  },
  {
   "cell_type": "code",
   "execution_count": 46,
   "id": "771588a5",
   "metadata": {},
   "outputs": [
    {
     "data": {
      "text/plain": [
       "(1000, 19)"
      ]
     },
     "execution_count": 46,
     "metadata": {},
     "output_type": "execute_result"
    }
   ],
   "source": [
    "X.shape"
   ]
  },
  {
   "cell_type": "code",
   "execution_count": 47,
   "id": "3593c75b",
   "metadata": {},
   "outputs": [
    {
     "data": {
      "text/plain": [
       "((700, 19), (300, 19))"
      ]
     },
     "execution_count": 47,
     "metadata": {},
     "output_type": "execute_result"
    }
   ],
   "source": [
    "from sklearn.model_selection import train_test_split\n",
    "X_train, X_test, y_train, y_test = train_test_split(X,y,test_size=0.3,random_state=42)\n",
    "X_train.shape, X_test.shape"
   ]
  },
  {
   "cell_type": "code",
   "execution_count": 48,
   "id": "69a8f7ab",
   "metadata": {},
   "outputs": [],
   "source": [
    "def evaluate_model(true, predicted):\n",
    "    mae = mean_absolute_error(true, predicted)\n",
    "    mse = mean_squared_error(true, predicted)\n",
    "    rmse = np.sqrt(mean_squared_error(true, predicted))\n",
    "    r2_square = r2_score(true, predicted)\n",
    "    return mae, rmse, r2_square"
   ]
  },
  {
   "cell_type": "code",
   "execution_count": 49,
   "id": "85c0d9bf",
   "metadata": {},
   "outputs": [
    {
     "name": "stdout",
     "output_type": "stream",
     "text": [
      "Linear Regression\n",
      "Model performance for Training set\n",
      "- Root Mean Squared Error: 5.2483\n",
      "- Mean Absolute Error: 4.1985\n",
      "- R2 Score: 0.8751\n",
      "Model performance for Test set\n",
      "- Root Mean Squared Error: 5.5576\n",
      "- Mean Absolute Error: 4.4183\n",
      "- R2 Score: 0.8759\n",
      "Lasso\n",
      "Model performance for Training set\n",
      "- Root Mean Squared Error: 6.5106\n",
      "- Mean Absolute Error: 5.1582\n",
      "- R2 Score: 0.8078\n",
      "Model performance for Test set\n",
      "- Root Mean Squared Error: 6.8705\n",
      "- Mean Absolute Error: 5.3929\n",
      "- R2 Score: 0.8103\n",
      "Ridge\n",
      "Model performance for Training set\n",
      "- Root Mean Squared Error: 5.2487\n",
      "- Mean Absolute Error: 4.1977\n",
      "- R2 Score: 0.8751\n",
      "Model performance for Test set\n",
      "- Root Mean Squared Error: 5.5566\n",
      "- Mean Absolute Error: 4.4155\n",
      "- R2 Score: 0.8759\n",
      "K-Neighbors Regressor\n",
      "Model performance for Training set\n",
      "- Root Mean Squared Error: 5.6784\n",
      "- Mean Absolute Error: 4.5037\n",
      "- R2 Score: 0.8538\n",
      "Model performance for Test set\n",
      "- Root Mean Squared Error: 7.5264\n",
      "- Mean Absolute Error: 5.8373\n",
      "- R2 Score: 0.7723\n",
      "Decision Tree\n",
      "Model performance for Training set\n",
      "- Root Mean Squared Error: 0.2988\n",
      "- Mean Absolute Error: 0.0214\n",
      "- R2 Score: 0.9996\n",
      "Model performance for Test set\n",
      "- Root Mean Squared Error: 8.1150\n",
      "- Mean Absolute Error: 6.5267\n",
      "- R2 Score: 0.7353\n",
      "Random Forest Regressor\n",
      "Model performance for Training set\n",
      "- Root Mean Squared Error: 2.3073\n",
      "- Mean Absolute Error: 1.8239\n",
      "- R2 Score: 0.9759\n",
      "Model performance for Test set\n",
      "- Root Mean Squared Error: 6.1826\n",
      "- Mean Absolute Error: 4.8732\n",
      "- R2 Score: 0.8464\n",
      "XGBRegressor\n",
      "Model performance for Training set\n",
      "- Root Mean Squared Error: 0.8957\n",
      "- Mean Absolute Error: 0.5657\n",
      "- R2 Score: 0.9964\n",
      "Model performance for Test set\n",
      "- Root Mean Squared Error: 6.8427\n",
      "- Mean Absolute Error: 5.4686\n",
      "- R2 Score: 0.8118\n",
      "CatBoosting Regressor\n",
      "Model performance for Training set\n",
      "- Root Mean Squared Error: 2.9221\n",
      "- Mean Absolute Error: 2.2890\n",
      "- R2 Score: 0.9613\n",
      "Model performance for Test set\n",
      "- Root Mean Squared Error: 6.0661\n",
      "- Mean Absolute Error: 4.7633\n",
      "- R2 Score: 0.8521\n",
      "AdaBoost Regressor\n",
      "Model performance for Training set\n",
      "- Root Mean Squared Error: 5.8467\n",
      "- Mean Absolute Error: 4.7603\n",
      "- R2 Score: 0.8450\n",
      "Model performance for Test set\n",
      "- Root Mean Squared Error: 6.3613\n",
      "- Mean Absolute Error: 5.0040\n",
      "- R2 Score: 0.8374\n"
     ]
    }
   ],
   "source": [
    "models = {\n",
    "    \"Linear Regression\": LinearRegression(),\n",
    "    \"Lasso\": Lasso(),\n",
    "    \"Ridge\": Ridge(),\n",
    "    \"K-Neighbors Regressor\": KNeighborsRegressor(),\n",
    "    \"Decision Tree\": DecisionTreeRegressor(),\n",
    "    \"Random Forest Regressor\": RandomForestRegressor(),\n",
    "    \"XGBRegressor\": XGBRegressor(), \n",
    "    \"CatBoosting Regressor\": CatBoostRegressor(verbose=False),\n",
    "    \"AdaBoost Regressor\": AdaBoostRegressor()\n",
    "}\n",
    "model_list = []\n",
    "r2_list =[]\n",
    "for i in range(len(list(models))):\n",
    "    model = list(models.values())[i]\n",
    "    model.fit(X_train, y_train) \n",
    "    y_train_pred = model.predict(X_train)\n",
    "    y_test_pred = model.predict(X_test)\n",
    "    model_train_mae , model_train_rmse, model_train_r2 = evaluate_model(y_train, y_train_pred)\n",
    "    model_test_mae , model_test_rmse, model_test_r2 = evaluate_model(y_test, y_test_pred)\n",
    "    print(list(models.keys())[i])\n",
    "    model_list.append(list(models.keys())[i])\n",
    "    print('Model performance for Training set')\n",
    "    print(\"- Root Mean Squared Error: {:.4f}\".format(model_train_rmse))\n",
    "    print(\"- Mean Absolute Error: {:.4f}\".format(model_train_mae))\n",
    "    print(\"- R2 Score: {:.4f}\".format(model_train_r2))\n",
    "    print('Model performance for Test set')\n",
    "    print(\"- Root Mean Squared Error: {:.4f}\".format(model_test_rmse))\n",
    "    print(\"- Mean Absolute Error: {:.4f}\".format(model_test_mae))\n",
    "    print(\"- R2 Score: {:.4f}\".format(model_test_r2))\n",
    "    r2_list.append(model_test_r2)"
   ]
  },
  {
   "cell_type": "code",
   "execution_count": 50,
   "id": "88a21225",
   "metadata": {},
   "outputs": [
    {
     "data": {
      "text/html": [
       "<div>\n",
       "<style scoped>\n",
       "    .dataframe tbody tr th:only-of-type {\n",
       "        vertical-align: middle;\n",
       "    }\n",
       "\n",
       "    .dataframe tbody tr th {\n",
       "        vertical-align: top;\n",
       "    }\n",
       "\n",
       "    .dataframe thead th {\n",
       "        text-align: right;\n",
       "    }\n",
       "</style>\n",
       "<table border=\"1\" class=\"dataframe\">\n",
       "  <thead>\n",
       "    <tr style=\"text-align: right;\">\n",
       "      <th></th>\n",
       "      <th>Model Name</th>\n",
       "      <th>R2_Score</th>\n",
       "    </tr>\n",
       "  </thead>\n",
       "  <tbody>\n",
       "    <tr>\n",
       "      <th>2</th>\n",
       "      <td>Ridge</td>\n",
       "      <td>0.875907</td>\n",
       "    </tr>\n",
       "    <tr>\n",
       "      <th>0</th>\n",
       "      <td>Linear Regression</td>\n",
       "      <td>0.875863</td>\n",
       "    </tr>\n",
       "    <tr>\n",
       "      <th>7</th>\n",
       "      <td>CatBoosting Regressor</td>\n",
       "      <td>0.852108</td>\n",
       "    </tr>\n",
       "    <tr>\n",
       "      <th>5</th>\n",
       "      <td>Random Forest Regressor</td>\n",
       "      <td>0.846369</td>\n",
       "    </tr>\n",
       "    <tr>\n",
       "      <th>8</th>\n",
       "      <td>AdaBoost Regressor</td>\n",
       "      <td>0.837364</td>\n",
       "    </tr>\n",
       "    <tr>\n",
       "      <th>6</th>\n",
       "      <td>XGBRegressor</td>\n",
       "      <td>0.811816</td>\n",
       "    </tr>\n",
       "    <tr>\n",
       "      <th>1</th>\n",
       "      <td>Lasso</td>\n",
       "      <td>0.810281</td>\n",
       "    </tr>\n",
       "    <tr>\n",
       "      <th>3</th>\n",
       "      <td>K-Neighbors Regressor</td>\n",
       "      <td>0.772328</td>\n",
       "    </tr>\n",
       "    <tr>\n",
       "      <th>4</th>\n",
       "      <td>Decision Tree</td>\n",
       "      <td>0.735327</td>\n",
       "    </tr>\n",
       "  </tbody>\n",
       "</table>\n",
       "</div>"
      ],
      "text/plain": [
       "                Model Name  R2_Score\n",
       "2                    Ridge  0.875907\n",
       "0        Linear Regression  0.875863\n",
       "7    CatBoosting Regressor  0.852108\n",
       "5  Random Forest Regressor  0.846369\n",
       "8       AdaBoost Regressor  0.837364\n",
       "6             XGBRegressor  0.811816\n",
       "1                    Lasso  0.810281\n",
       "3    K-Neighbors Regressor  0.772328\n",
       "4            Decision Tree  0.735327"
      ]
     },
     "execution_count": 50,
     "metadata": {},
     "output_type": "execute_result"
    }
   ],
   "source": [
    "pd.DataFrame(list(zip(model_list, r2_list)), columns=['Model Name', 'R2_Score']).sort_values(by=[\"R2_Score\"],ascending=False)"
   ]
  },
  {
   "cell_type": "code",
   "execution_count": 54,
   "id": "0c7f18d8",
   "metadata": {},
   "outputs": [
    {
     "name": "stdout",
     "output_type": "stream",
     "text": [
      " Accuracy of the model is 87.5863\n"
     ]
    }
   ],
   "source": [
    "lin_model = LinearRegression(fit_intercept=True)\n",
    "lin_model = lin_model.fit(X_train, y_train)\n",
    "y_pred = lin_model.predict(X_test)\n",
    "score = r2_score(y_test, y_pred)*100\n",
    "print(\" Accuracy of the model is %.4f\" %score)"
   ]
  },
  {
   "cell_type": "code",
   "execution_count": 55,
   "id": "8f5ee72f",
   "metadata": {},
   "outputs": [
    {
     "data": {
      "text/plain": [
       "Text(0, 0.5, 'Predicted')"
      ]
     },
     "execution_count": 55,
     "metadata": {},
     "output_type": "execute_result"
    },
    {
     "data": {
      "image/png": "[encoded data removed]",
      "text/plain": [
       "<Figure size 640x480 with 1 Axes>"
      ]
     },
     "metadata": {},
     "output_type": "display_data"
    }
   ],
   "source": [
    "plt.scatter(y_test,y_pred)\n",
    "plt.xlabel('Actual')\n",
    "plt.ylabel('Predicted')"
   ]
  },
  {
   "cell_type": "code",
   "execution_count": 57,
   "id": "92cc4184",
   "metadata": {},
   "outputs": [
    {
     "data": {
      "text/plain": [
       "<Axes: xlabel='math score'>"
      ]
     },
     "execution_count": 57,
     "metadata": {},
     "output_type": "execute_result"
    },
    {
     "data": {
      "image/png": "[encoded data removed]",
      "text/plain": [
       "<Figure size 640x480 with 1 Axes>"
      ]
     },
     "metadata": {},
     "output_type": "display_data"
    }
   ],
   "source": [
    "sns.regplot(x=y_test,y=y_pred,ci=None,color ='green')"
   ]
  },
  {
   "cell_type": "code",
   "execution_count": null,
   "id": "ef326c00",
   "metadata": {},
   "outputs": [],
   "source": []
  }
 ],
 "metadata": {
  "kernelspec": {
   "display_name": "Python 3",
   "language": "python",
   "name": "python3"
  },
  "language_info": {
   "codemirror_mode": {
    "name": "ipython",
    "version": 3
   },
   "file_extension": ".py",
   "mimetype": "text/x-python",
   "name": "python",
   "nbconvert_exporter": "python",
   "pygments_lexer": "ipython3",
   "version": "3.10.18"
  }
 },
 "nbformat": 4,
 "nbformat_minor": 5
}
